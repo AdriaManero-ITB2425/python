{
  "nbformat": 4,
  "nbformat_minor": 0,
  "metadata": {
    "colab": {
      "provenance": [],
      "include_colab_link": true
    },
    "kernelspec": {
      "name": "python3",
      "display_name": "Python 3"
    },
    "language_info": {
      "name": "python"
    }
  },
  "cells": [
    {
      "cell_type": "markdown",
      "metadata": {
        "id": "view-in-github",
        "colab_type": "text"
      },
      "source": [
        "<a href=\"https://colab.research.google.com/github/AdriaManero-ITB2425/python/blob/main/Introduccio_python.ipynb\" target=\"_parent\"><img src=\"https://colab.research.google.com/assets/colab-badge.svg\" alt=\"Open In Colab\"/></a>"
      ]
    },
    {
      "cell_type": "code",
      "execution_count": null,
      "metadata": {
        "id": "xh8YHk0xSnHa"
      },
      "outputs": [],
      "source": []
    },
    {
      "cell_type": "markdown",
      "source": [
        "# Introducció a python per a admins"
      ],
      "metadata": {
        "id": "dxN-f4D2SuRu"
      }
    },
    {
      "cell_type": "markdown",
      "source": [
        "## **1 - Fonaments de python** (_Python Basics_)"
      ],
      "metadata": {
        "id": "alK6QLHqZAwF"
      }
    },
    {
      "cell_type": "markdown",
      "source": [
        "## Exercici 1 - Precedència d'operadors"
      ],
      "metadata": {
        "id": "I9Nd_KkCS2u9"
      }
    },
    {
      "cell_type": "code",
      "source": [
        "# Escriu els teus exemples aquí. Crea una cel·la per a cada exemple."
      ],
      "metadata": {
        "id": "--YLZtFlS-kd",
        "colab": {
          "base_uri": "https://localhost:8080/"
        },
        "outputId": "50ca0792-8570-4ad6-fad1-6a5c5b46374d"
      },
      "execution_count": null,
      "outputs": [
        {
          "output_type": "stream",
          "name": "stdout",
          "text": [
            "Hello\n"
          ]
        }
      ]
    },
    {
      "cell_type": "markdown",
      "source": [
        "## Exercici 2 - Tipus de dades i type"
      ],
      "metadata": {
        "id": "YMrsM989T9u9"
      }
    },
    {
      "cell_type": "code",
      "source": [
        "# Escriu els teus exemples aquí. Crea una cel·la per a cada exemple."
      ],
      "metadata": {
        "id": "oRW4je7dULu4"
      },
      "execution_count": null,
      "outputs": []
    },
    {
      "cell_type": "markdown",
      "source": [
        "## Exercici 3 - El meu primer programa\n",
        "\n",
        "Replica el primer programa i explica'l línia per línia."
      ],
      "metadata": {
        "id": "W-vg74HdX6_m"
      }
    },
    {
      "cell_type": "code",
      "source": [
        "# El meu primer programa aquí"
      ],
      "metadata": {
        "id": "52QFF3PxUGqS"
      },
      "execution_count": null,
      "outputs": []
    },
    {
      "cell_type": "markdown",
      "source": [
        "## Exercici 4 - Qüestions pràctiques (_Python Basics_)\n",
        "\n",
        "En diferents cel·les, prova i justifica cadascuna de les qüestions pràctiques plantejades a la secció _Python Basics_ dels apunts.\n",
        "\n",
        "_Cal copiar els enunciats de cada practice question al quadern_."
      ],
      "metadata": {
        "id": "MZ8smcv4YfZG"
      }
    },
    {
      "cell_type": "code",
      "source": [
        "# Qüestions pràctiques amb explicacions (una cel·la per a cadascuna)"
      ],
      "metadata": {
        "id": "h8kabe6pYyBi"
      },
      "execution_count": null,
      "outputs": []
    },
    {
      "cell_type": "markdown",
      "source": [
        "## **2 - Control de flux** (_Flow Control_)"
      ],
      "metadata": {
        "id": "fOucLuCgZ7wE"
      }
    },
    {
      "cell_type": "markdown",
      "source": [
        "## Exercici 5 - Booleans i operadors de comparació\n",
        "\n",
        "Prova els diferents exemples dels apunts i justifica'ls."
      ],
      "metadata": {
        "id": "j9aXBt-Ogqw3"
      }
    },
    {
      "cell_type": "code",
      "source": [
        "# Escriu els teus exemples aquí. Crea una cel·la per a cada exemple."
      ],
      "metadata": {
        "id": "bthm7F8zgtnZ"
      },
      "execution_count": null,
      "outputs": []
    },
    {
      "cell_type": "markdown",
      "source": [
        "## Exercici 6: Barrejant operadors booleans i de comparació\n",
        "\n",
        "Prova els diferents exemples dels apunts i justifica'ls."
      ],
      "metadata": {
        "id": "skjjhY3XqOU0"
      }
    },
    {
      "cell_type": "code",
      "source": [
        "# Escriu els teus exemples aquí. Crea una cel·la per a cada exemple."
      ],
      "metadata": {
        "id": "75_KDIgWoqm5"
      },
      "execution_count": null,
      "outputs": []
    },
    {
      "cell_type": "markdown",
      "source": [
        "## Exercici 7: Control de flux (if, else, elif)\n",
        "\n",
        "Fes el codi en python corresponent a cadascun dels 6 diagrames de flux dels apunts. Justifica el codi."
      ],
      "metadata": {
        "id": "IhLdskAMrrkn"
      }
    },
    {
      "cell_type": "code",
      "source": [
        "# Escriu el codi de cada diagrama de flux en una cel·la independent."
      ],
      "metadata": {
        "id": "wtEjX6uiqdEO"
      },
      "execution_count": null,
      "outputs": []
    },
    {
      "cell_type": "markdown",
      "source": [],
      "metadata": {
        "id": "Z-tBS65MuQAy"
      }
    },
    {
      "cell_type": "markdown",
      "source": [
        "## Exercici 8: Control de flux (while, break, continue)\n",
        "\n",
        "Als apunts trobaràs un diagrama de flux (pàgina 42). Fes el codi d’aquest diagrama i explica què passa i perquè."
      ],
      "metadata": {
        "id": "2yDh-LCNuSey"
      }
    },
    {
      "cell_type": "code",
      "source": [
        "# Escriu el codi del diagrama i comenta'l"
      ],
      "metadata": {
        "id": "3uAcKFJCsBnP"
      },
      "execution_count": null,
      "outputs": []
    },
    {
      "cell_type": "markdown",
      "source": [
        "## Exercici 9: Control de flux (for, range())\n",
        "\n",
        "Als apunts trobaràs un diagrama de flux (pàgina 45). Fes el codi d’aquest diagrama i explica què passa i perquè."
      ],
      "metadata": {
        "id": "QVOSVYXAUuWQ"
      }
    },
    {
      "cell_type": "code",
      "source": [
        "# Escriu el codi del diagrama i comenta'l"
      ],
      "metadata": {
        "id": "xnbQ_MKouoJL"
      },
      "execution_count": null,
      "outputs": []
    },
    {
      "cell_type": "markdown",
      "source": [
        "## Exercici 10: Guess the number\n",
        "\n",
        "Replica el programa “Guess the number” que trobaràs als apunts i comenta’l, explicant què fa el codi."
      ],
      "metadata": {
        "id": "PUPy96lUWoRn"
      }
    },
    {
      "cell_type": "code",
      "source": [
        "# Replica el programa aquí i comenta'l"
      ],
      "metadata": {
        "id": "nf9CdQfrWzSi"
      },
      "execution_count": null,
      "outputs": []
    },
    {
      "cell_type": "markdown",
      "source": [
        "## Exercici 11: Pedra, papera, tisores\n",
        "\n",
        "Replica el programa “Rock, paper, scissors” que trobaràs als apunts i comenta’l, explicant què fa el codi."
      ],
      "metadata": {
        "id": "PzCfYYa6W29E"
      }
    },
    {
      "cell_type": "code",
      "source": [
        "# Replica el programa aquí i comenta'l"
      ],
      "metadata": {
        "id": "02dkICcKXAAC"
      },
      "execution_count": null,
      "outputs": []
    },
    {
      "cell_type": "markdown",
      "source": [
        "## Exercici 12 - Qüestions pràctiques (_Flow Control_)\n",
        "\n",
        "En diferents cel·les, prova i justifica cadascuna de les qüestions pràctiques plantejades a la secció _Flow Control_ dels apunts.\n",
        "\n",
        "_Cal copiar els enunciats de cada practice question al quadern_."
      ],
      "metadata": {
        "id": "5Pd03JvcaOqL"
      }
    },
    {
      "cell_type": "code",
      "source": [
        "# Qüestions pràctiques amb explicacions (una cel·la per a cadascuna)"
      ],
      "metadata": {
        "id": "3GJNHTphaViH"
      },
      "execution_count": null,
      "outputs": []
    },
    {
      "cell_type": "markdown",
      "source": [
        "## Exercici 13: Zigzag\n",
        "\n",
        "Replica el programa “Zigzag” que trobaràs als apunts i comenta’l, explicant què fa el codi."
      ],
      "metadata": {
        "id": "ojox_nTLai2x"
      }
    },
    {
      "cell_type": "code",
      "source": [
        "# Replica el programa aquí i comenta'l"
      ],
      "metadata": {
        "id": "vEPDeB7qad7Z"
      },
      "execution_count": null,
      "outputs": []
    },
    {
      "cell_type": "markdown",
      "source": [
        "## Exercici 14 - Qüestions pràctiques (_Functions_)\n",
        "\n",
        "En diferents cel·les, prova i justifica cadascuna de les qüestions pràctiques plantejades a la secció _Functions_ dels apunts.\n",
        "\n",
        "_Cal copiar els enunciats de cada practice question al quadern_."
      ],
      "metadata": {
        "id": "bSN7qAUAa32J"
      }
    },
    {
      "cell_type": "code",
      "source": [
        "# Qüestions pràctiques amb explicacions (una cel·la per a cadascuna)"
      ],
      "metadata": {
        "id": "W5TTALxya2sP"
      },
      "execution_count": null,
      "outputs": []
    },
    {
      "cell_type": "markdown",
      "source": [
        "## Exercici 15: allMyCats2\n",
        "\n",
        "Replica el programa “allMyCats2” que trobaràs als apunts i comenta’l, explicant què fa el codi."
      ],
      "metadata": {
        "id": "EP7EIyUaeGjX"
      }
    },
    {
      "cell_type": "code",
      "source": [
        "# Replica el programa aquí i comenta'l"
      ],
      "metadata": {
        "id": "xrqyHYb1eS_1"
      },
      "execution_count": null,
      "outputs": []
    },
    {
      "cell_type": "markdown",
      "source": [
        "## Exercici 16: mètodes de llistes\n",
        "\n",
        "Inventa't almenys un exemple, escrivint-ne el codi corresponent, per a cadascun dels mètodes d'ús més freqüent de les llistes: _index()_, _append()_, _insert()_, _remove()_, _sort()_ i _reverse()_.\n"
      ],
      "metadata": {
        "id": "0QMRxeXzhN9T"
      }
    },
    {
      "cell_type": "code",
      "source": [
        "# Els teus exemples aquí, un per a cada mètode (cada exemple en una cel·la\n",
        "# diferent)\n",
        "# Nota: cada alumne ha de presentar exemples diferents dels de la resta d'alumnes"
      ],
      "metadata": {
        "id": "F3H70ClJiblf"
      },
      "execution_count": null,
      "outputs": []
    },
    {
      "cell_type": "markdown",
      "source": [
        "## Exercici 17 - Qüestions pràctiques (_lists_)\n",
        "\n",
        "En diferents cel·les, respon i justifica cadascuna de les qüestions pràctiques plantejades a la secció _lists_ dels apunts.\n",
        "\n",
        "_Cal copiar els enunciats de cada practice question al quadern_."
      ],
      "metadata": {
        "id": "NrM_cV4NpgRL"
      }
    },
    {
      "cell_type": "code",
      "source": [
        "# Qüestions pràctiques amb explicacions (una cel·la per a cadascuna)"
      ],
      "metadata": {
        "id": "n6_3ZuTxpmoP"
      },
      "execution_count": null,
      "outputs": []
    },
    {
      "cell_type": "markdown",
      "source": [
        "## Exercici 18 - Qüestions pràctiques (_dictionaries_)\n",
        "\n",
        "En diferents cel·les, respon i justifica cadascuna de les qüestions pràctiques plantejades a la secció _Dictionaries and structuring data_ dels apunts.\n",
        "\n",
        "_Cal copiar els enunciats de cada practice question al quadern_."
      ],
      "metadata": {
        "id": "DaXwews3sxnH"
      }
    },
    {
      "cell_type": "code",
      "source": [
        "# Qüestions pràctiques amb explicacions (una cel·la per a cadascuna)"
      ],
      "metadata": {
        "id": "WSmqBDcrs35U"
      },
      "execution_count": null,
      "outputs": []
    },
    {
      "cell_type": "markdown",
      "source": [
        "## Exercici 19: mètodes de cadenes\n",
        "\n",
        "Inventa't almenys un exemple, escrivint-ne el codi corresponent, per a cadascun dels mètodes d'ús més freqüent de les cadenes: *upper(), lower(), isupper(), islower(), mètodes isX(), startswith() i endswith(), join() i split(), partition(), ljust(), rjust() i center(), strip(), lstrip() i rstrip()*.\n",
        "\n"
      ],
      "metadata": {
        "id": "jzb6hG2tysUC"
      }
    },
    {
      "cell_type": "code",
      "source": [
        "# Els teus exemples aquí, un per a cada mètode (cada exemple en una cel·la\n",
        "# diferent)\n",
        "# Nota: cada alumne ha de presentar exemples diferents dels de la resta d'alumnes"
      ],
      "metadata": {
        "id": "yvoQ20xBzakZ"
      },
      "execution_count": null,
      "outputs": []
    },
    {
      "cell_type": "markdown",
      "source": [
        "## Exercici 20 - Qüestions pràctiques (_Manipulating Strings_)\n",
        "\n",
        "En diferents cel·les, respon i **justifica** cadascuna de les qüestions pràctiques plantejades a la secció _manipulating Strings_ dels apunts.\n",
        "\n",
        "_Cal copiar els enunciats de cada practice question al quadern_."
      ],
      "metadata": {
        "id": "UlEeHFOyyfIq"
      }
    },
    {
      "cell_type": "code",
      "source": [
        "# Qüestions pràctiques amb explicacions (una cel·la per a cadascuna)"
      ],
      "metadata": {
        "id": "X9s8phPHyo6u"
      },
      "execution_count": null,
      "outputs": []
    }
  ]
}