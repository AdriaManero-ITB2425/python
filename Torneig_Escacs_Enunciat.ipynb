{
  "cells": [
    {
      "cell_type": "markdown",
      "metadata": {
        "id": "view-in-github",
        "colab_type": "text"
      },
      "source": [
        "<a href=\"https://colab.research.google.com/github/AdriaManero-ITB2425/python/blob/main/Torneig_Escacs_Enunciat.ipynb\" target=\"_parent\"><img src=\"https://colab.research.google.com/assets/colab-badge.svg\" alt=\"Open In Colab\"/></a>"
      ]
    },
    {
      "cell_type": "markdown",
      "id": "c206b8d5",
      "metadata": {
        "id": "c206b8d5"
      },
      "source": [
        "\n",
        "# Torneig d'Escacs - Enunciat del projecte\n",
        "\n",
        "## Introducció\n",
        "Benvingut al projecte! En aquest exercici ajudaràs a gestionar un torneig d'escacs senzill. Durant aquest projecte, treballaràs amb conceptes bàsics de Python com ara control de flux, funcions, llistes, tuples, diccionaris i manipulació de cadenes. El projecte està dividit en diverses parts que s'han de resoldre progressivament.\n"
      ]
    },
    {
      "cell_type": "markdown",
      "id": "532c3c03",
      "metadata": {
        "id": "532c3c03"
      },
      "source": [
        "\n",
        "## Part 1: Crear la llista de participants\n",
        "1. Escriu una funció anomenada `crear_participants()` que:\n",
        "    - Demani a l'usuari quants participants hi haurà al torneig.\n",
        "    - Per a cada participant, demani el seu nom i afegeixi el nom a una llista.\n",
        "    - Retorni la llista de participants.\n",
        "2. Mostra la llista completa de participants per pantalla quan estigui creada.\n",
        "\n",
        "### Exemple de sortida esperada:\n",
        "```\n",
        "Introdueix el nombre de participants: 3\n",
        "Introdueix el nom del participant 1: Anna\n",
        "Introdueix el nom del participant 2: Jordi\n",
        "Introdueix el nom del participant 3: Maria\n",
        "\n",
        "Llista de participants: ['Anna', 'Jordi', 'Maria']\n",
        "```\n"
      ]
    },
    {
      "cell_type": "code",
      "execution_count": null,
      "id": "25e53349",
      "metadata": {
        "id": "25e53349",
        "colab": {
          "base_uri": "https://localhost:8080/"
        },
        "outputId": "d7795082-c9cb-4100-ae69-0b21df7a32f4"
      },
      "outputs": [
        {
          "output_type": "stream",
          "name": "stdout",
          "text": [
            "Introdueix el nombre de participants: 2\n",
            "Introdueix el nom del participant 1: uno\n",
            "Introdueix el nom del participant 2: dos\n",
            "\n",
            "Llista de participants: ['uno', 'dos']\n"
          ]
        }
      ],
      "source": []
    },
    {
      "cell_type": "markdown",
      "id": "12ad020d",
      "metadata": {
        "id": "12ad020d"
      },
      "source": [
        "\n",
        "## Part 2: Crear el sistema de puntuació\n",
        "1. Escriu una funció anomenada `inicialitzar_puntuacions(participants)` que:\n",
        "    - Rebi una llista de participants com a argument.\n",
        "    - Creï un diccionari on cada clau és el nom d'un participant i el valor inicial sigui 0.\n",
        "    - Retorni aquest diccionari.\n",
        "2. Mostra el diccionari de puntuacions inicials.\n",
        "\n",
        "### Exemple de sortida esperada:\n",
        "```\n",
        "{'Anna': 0, 'Jordi': 0, 'Maria': 0}\n",
        "```\n"
      ]
    },
    {
      "cell_type": "code",
      "execution_count": null,
      "id": "e9de51c5",
      "metadata": {
        "id": "e9de51c5",
        "colab": {
          "base_uri": "https://localhost:8080/"
        },
        "outputId": "8db855c9-1237-42b9-c61b-2261877610fd"
      },
      "outputs": [
        {
          "output_type": "stream",
          "name": "stdout",
          "text": [
            "Introdueix el nombre de participants: 2\n",
            "Introdueix el nom del participant 1: uno\n",
            "Introdueix el nom del participant 2: dos\n",
            "\n",
            "Llista de participants: ['uno', 'dos']\n",
            "\n",
            "Puntuacions inicials: {'uno': 0, 'dos': 0}\n"
          ]
        }
      ],
      "source": []
    },
    {
      "cell_type": "markdown",
      "id": "2f594dfa",
      "metadata": {
        "id": "2f594dfa"
      },
      "source": [
        "\n",
        "## Part 3: Simular partides\n",
        "1. Escriu una funció anomenada `simular_partida(puntuacions)` que:\n",
        "    - Mostri una llista dels participants i demani a l'usuari que introdueixi el nom del guanyador d'una partida.\n",
        "\"\n",
        "    - Si el nom del guanyador és vàlid, afegeixi 1 punt al seu total en el diccionari de puntuacions.\n",
        "\"\n",
        "    - Si el nom no és vàlid, mostri un missatge d'error i torni a demanar el nom del guanyador.\n",
        "\"\n",
        "2. Repeteix aquest procés fins que l'usuari decideixi que no es juguen més partides.\n",
        "\n",
        "### Exemple de sortida esperada:\n",
        "```\n",
        "Participants: ['Anna', 'Jordi', 'Maria']\n",
        "Introdueix el nom del guanyador de la partida: Anna\n",
        "\n",
        "Actualització de puntuacions: {'Anna': 1, 'Jordi': 0, 'Maria': 0}\n",
        "\n",
        "Vols continuar? (sí/no): sí\n",
        "\n",
        "Introdueix el nom del guanyador de la partida: Jordi\n",
        "\n",
        "Actualització de puntuacions: {'Anna': 1, 'Jordi': 1, 'Maria': 0}\n",
        "\n",
        "Vols continuar? (sí/no): no\n",
        "```\n"
      ]
    },
    {
      "cell_type": "code",
      "execution_count": null,
      "id": "bf8ecfe7",
      "metadata": {
        "id": "bf8ecfe7"
      },
      "outputs": [],
      "source": [
        "# Escriu el codi aquí per a la Part 3"
      ]
    },
    {
      "cell_type": "markdown",
      "id": "213e3dea",
      "metadata": {
        "id": "213e3dea"
      },
      "source": [
        "\n",
        "## Part 4: Declarar el guanyador\n",
        "1. Escriu una funció anomenada `declarar_guanyador(puntuacions)` que:\n",
        "    - Determini el participant amb la puntuació més alta.\n",
        "    - En cas d'empat, mostri un missatge indicant que hi ha un empat entre els participants amb la puntuació més alta.\n",
        "    - Mostri el guanyador (o els guanyadors) per pantalla.\n",
        "\n",
        "### Exemple de sortida esperada:\n",
        "```\n",
        "El guanyador és: Anna\n",
        "```\n",
        "**o**\n",
        "```\n",
        "Hi ha un empat entre: Anna i Jordi\n",
        "```\n"
      ]
    },
    {
      "cell_type": "code",
      "execution_count": null,
      "id": "e652c162",
      "metadata": {
        "id": "e652c162"
      },
      "outputs": [],
      "source": [
        "# Escriu el codi aquí per a la Part 4"
      ]
    },
    {
      "cell_type": "markdown",
      "id": "99782a86",
      "metadata": {
        "id": "99782a86"
      },
      "source": [
        "\n",
        "## Reptes opcionals\n",
        "1. Ordena la classificació final en ordre descendent de puntuacions i mostra-la.\n",
        "2. Implementa una validació per assegurar que els noms introduïts no tinguin espais innecessaris ni caràcters invàlids.\n"
      ]
    }
  ],
  "metadata": {
    "colab": {
      "provenance": [],
      "include_colab_link": true
    },
    "language_info": {
      "name": "python"
    },
    "kernelspec": {
      "name": "python3",
      "display_name": "Python 3"
    }
  },
  "nbformat": 4,
  "nbformat_minor": 5
}